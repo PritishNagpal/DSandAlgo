{
  "nbformat": 4,
  "nbformat_minor": 0,
  "metadata": {
    "kernelspec": {
      "display_name": "Python 3",
      "language": "python",
      "name": "python3"
    },
    "language_info": {
      "codemirror_mode": {
        "name": "ipython",
        "version": 3
      },
      "file_extension": ".py",
      "mimetype": "text/x-python",
      "name": "python",
      "nbconvert_exporter": "python",
      "pygments_lexer": "ipython3",
      "version": "3.8.3"
    },
    "colab": {
      "name": "practice.ipynb",
      "provenance": []
    }
  },
  "cells": [
    {
      "cell_type": "code",
      "metadata": {
        "id": "_tGwwLl_-x1c",
        "outputId": "7113d087-9d9a-4ffe-979a-1c4dba467c48"
      },
      "source": [
        "'''\n",
        "n = int(input())\n",
        "if(n%2!=0):\n",
        "    print('Weird')\n",
        "elif(n%2==0):\n",
        "    if(n>=2 and n<=5):\n",
        "        print('Not Weird')\n",
        "    elif(n>=6 and n<=20):\n",
        "        print('Weird')\n",
        "    else:\n",
        "        print('Not Weird')\n"
      ],
      "execution_count": null,
      "outputs": [
        {
          "output_type": "stream",
          "text": [
            " 5\n"
          ],
          "name": "stdin"
        },
        {
          "output_type": "stream",
          "text": [
            "Weird\n"
          ],
          "name": "stdout"
        }
      ]
    },
    {
      "cell_type": "code",
      "metadata": {
        "id": "DpldroyT-x1f",
        "outputId": "0ee3181f-ec3b-4eba-b2cc-c242e6ec7585"
      },
      "source": [
        "# To check if the year entered is leap year or not\n",
        "def is_leap(year):\n",
        "    if((year%400==0) or (year%4==0 and year%100!=0)):\n",
        "        leap = True\n",
        "    else:\n",
        "        leap = False\n",
        "    return leap\n",
        "\n",
        "year = int(input())\n",
        "print(is_leap(year))"
      ],
      "execution_count": null,
      "outputs": [
        {
          "output_type": "stream",
          "text": [
            " 2100\n"
          ],
          "name": "stdin"
        },
        {
          "output_type": "stream",
          "text": [
            "False\n"
          ],
          "name": "stdout"
        }
      ]
    },
    {
      "cell_type": "code",
      "metadata": {
        "id": "l3LLrFr7-x1i"
      },
      "source": [
        "import numpy as np"
      ],
      "execution_count": null,
      "outputs": []
    },
    {
      "cell_type": "code",
      "metadata": {
        "id": "NyHNbatA-x1k",
        "outputId": "582c5eda-0a81-4927-9a2f-3ef78d399a44"
      },
      "source": [
        "#NumPy's main datatype is ndarray\n",
        "a1 = np.array([1, 2, 3])\n",
        "a1"
      ],
      "execution_count": null,
      "outputs": [
        {
          "output_type": "execute_result",
          "data": {
            "text/plain": [
              "array([1, 2, 3])"
            ]
          },
          "metadata": {
            "tags": []
          },
          "execution_count": 2
        }
      ]
    },
    {
      "cell_type": "code",
      "metadata": {
        "id": "x8b_b_DB-x1n",
        "outputId": "f59ce54b-46c1-4f43-cb79-aa2fb91d1408"
      },
      "source": [
        "type(a1)"
      ],
      "execution_count": null,
      "outputs": [
        {
          "output_type": "execute_result",
          "data": {
            "text/plain": [
              "numpy.ndarray"
            ]
          },
          "metadata": {
            "tags": []
          },
          "execution_count": 3
        }
      ]
    },
    {
      "cell_type": "code",
      "metadata": {
        "id": "VIRWcROn-x1p"
      },
      "source": [
        ""
      ],
      "execution_count": null,
      "outputs": []
    },
    {
      "cell_type": "code",
      "metadata": {
        "id": "4N4FSY_o-x1r",
        "outputId": "4ccdc923-315f-4a29-bc92-8738f546854c"
      },
      "source": [
        "\n",
        "x = int(input())\n",
        "y = int(input())\n",
        "z = int(input())\n",
        "n = int(input())\n",
        "#list_1=[i,j,k for i in range]\n",
        "\n",
        "print([[i,j,k] for i in range(x+1) for j in range(y+1) for k in range(z+1) if(i+j+k)!=n])"
      ],
      "execution_count": null,
      "outputs": [
        {
          "output_type": "stream",
          "text": [
            " 1\n",
            " 1\n",
            " 1\n",
            " 2\n"
          ],
          "name": "stdin"
        },
        {
          "output_type": "stream",
          "text": [
            "[[0, 0, 0], [0, 0, 1], [0, 1, 0], [1, 0, 0], [1, 1, 1]]\n"
          ],
          "name": "stdout"
        }
      ]
    },
    {
      "cell_type": "code",
      "metadata": {
        "id": "aq2BuPZv-x1u"
      },
      "source": [
        "a = []\n",
        "n = int(input())\n",
        "for i in range(n):\n",
        "    item = int(input())\n",
        "    a.append(item)\n",
        "\n",
        "a.sort()\n",
        "print(a)\n",
        "set1 = set(a)\n",
        "set1.remove(max(set1))\n",
        "print(max(set1))"
      ],
      "execution_count": null,
      "outputs": []
    },
    {
      "cell_type": "code",
      "metadata": {
        "id": "-JVOj1Nf-x1w"
      },
      "source": [
        "a = []\n",
        "n = int(input())\n",
        "for i in range(n):\n",
        "    item = int(input())\n",
        "    a.append(item)\n",
        "\n",
        "a.sort()\n",
        "print(a)\n",
        "set1 = set(a)\n",
        "set1.remove(max(set1))\n",
        "print(max(set1))"
      ],
      "execution_count": null,
      "outputs": []
    },
    {
      "cell_type": "markdown",
      "metadata": {
        "id": "67sCMp_L-x1y"
      },
      "source": [
        ""
      ]
    },
    {
      "cell_type": "code",
      "metadata": {
        "pycharm": {
          "name": "#%%\n"
        },
        "id": "TCASuzT0-x1y",
        "outputId": "9822937e-813b-4d6d-ccc5-3e6a87021d2e"
      },
      "source": [
        "# Left rotation in a 1-D array\n",
        "n,d = map(int,input().split())\n",
        "a = list(map(int,input().split()))\n",
        "i = d\n",
        "while(i<n):\n",
        "    print(a[i],end = ' ')\n",
        "    i+=1\n",
        "i = 0\n",
        "for i in range(d):\n",
        "    print(a[i],end=' ')\n",
        "\n",
        "'''\n",
        "# Method 2\n",
        "  for i in range(d):\n",
        "        b = a.pop(0)\n",
        "        a.append(b)\n",
        "    return a\n",
        "\n",
        "'''\n",
        "a = [2, 4, 3, 5, 6, 7, 1]\n",
        "b = a.pop(max(a))\n",
        "print(b)\n",
        "\n",
        "# Number of occurence of an element in an array\n",
        "\n",
        "def count(self,arr, n, x):\n",
        "\t\t# code here\n",
        "\t\tcount = 0\n",
        "\t\tfor i in range(n):\n",
        "\t\t    if arr[i]==x:\n",
        "\t\t        count+=1\n",
        "\t\treturn count\n",
        "'''\n",
        "\n",
        "# max sum of i*a[i] in an array\n",
        "\n",
        "def rotate(a, d):\n",
        "    for i in range(d):\n",
        "        b = a.pop(0)\n",
        "        a.append(b)\n",
        "    return a\n",
        "def max_sum(a,n):\n",
        "    #code here\n",
        "    c = []\n",
        "    sum_arr = []\n",
        "    for k in range(n):\n",
        "        summ = 0\n",
        "        c = rotate(a, k)\n",
        "        for p in range(len(c)):\n",
        "            summ += p*c[p]\n",
        "        sum_arr.append(summ)\n",
        "    return max(sum_arr)\n",
        "\n"
      ],
      "execution_count": null,
      "outputs": [
        {
          "output_type": "stream",
          "text": [
            "1\n"
          ],
          "name": "stdout"
        }
      ]
    },
    {
      "cell_type": "markdown",
      "metadata": {
        "id": "p7B9ZoGh-zSh"
      },
      "source": [
        ""
      ]
    },
    {
      "cell_type": "code",
      "metadata": {
        "id": "hqwWAVIi-zxS",
        "outputId": "20c71083-eebb-4289-b256-728322707f17",
        "colab": {
          "base_uri": "https://localhost:8080/",
          "height": 104
        }
      },
      "source": [
        "# Given a sorted array of positive integers. Your task is to rearrange  the array elements alternatively i.e first element should be max value, \n",
        "# second should be min value, third should be second max, fourth should be second min and so on...\n",
        "T = int(input())\n",
        "p = 0\n",
        "while(p<T):\n",
        "    n = int(input())\n",
        "    a = list(map(int, input().split()))\n",
        "    arr = []\n",
        "    a.sort() \n",
        "    i=n-1\n",
        "    j=0\n",
        "    while(i>=n//2 and j<=n-1):\n",
        "        arr.insert(j,a[i])\n",
        "        i-=1\n",
        "        j+=2\n",
        "    k=0\n",
        "    l=1\n",
        "    while(k<=n//2 and l<=n-1):\n",
        "        arr.insert(l, a[k])\n",
        "        k+=1\n",
        "        l+=2\n",
        "    for i in range(n):\n",
        "        print(arr[i], end=' ')\n",
        "    p+=1\n",
        "    print(\"\\n\")\n",
        "        "
      ],
      "execution_count": 2,
      "outputs": [
        {
          "output_type": "stream",
          "text": [
            "1\n",
            "82\n",
            "12 23 28 43 44 59 60 68 70 85 88 92 124 125 136 168 171 173 179 199 212 230 277 282 306 314 316 325 328 336 337 363 365 368 369 371 374 387 394 414 422 427 430 435 457 493 506 527 531 538 541 546 568 583 650 691 730 737 751 764 778 783 785 789 794 803 809 815 847 858 863 874 887 896 916 920 926 927 930 957 981 997\n",
            "[997, 12, 981, 23, 957, 28, 930, 43, 927, 44, 926, 59, 920, 60, 916, 68, 896, 70, 887, 85, 874, 88, 863, 92, 858, 124, 847, 125, 815, 136, 809, 168, 803, 171, 794, 173, 789, 179, 785, 199, 783, 212, 778, 230, 764, 277, 751, 282, 737, 306, 730, 314, 691, 316, 650, 325, 583, 328, 568, 336, 546, 337, 541, 363, 538, 365, 531, 368, 527, 369, 506, 371, 493, 374, 457, 387, 435, 394, 430, 414, 427, 422]\n"
          ],
          "name": "stdout"
        }
      ]
    },
    {
      "cell_type": "code",
      "metadata": {
        "id": "jAfHAdxg_Aia"
      },
      "source": [
        ""
      ],
      "execution_count": null,
      "outputs": []
    }
  ]
}
