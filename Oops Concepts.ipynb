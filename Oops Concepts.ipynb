{
 "cells": [
  {
   "cell_type": "code",
   "execution_count": 5,
   "metadata": {},
   "outputs": [
    {
     "name": "stdout",
     "output_type": "stream",
     "text": [
      "Student Name: John\n",
      "Roll Number: 101\n",
      "Marks: 78.25\n"
     ]
    }
   ],
   "source": [
    "class student:\n",
    "    def __init__(self):\n",
    "        self.name = 'John'\n",
    "        self.roll = 101\n",
    "        self.marks = 78.25\n",
    "    \n",
    "    def __str__(self):\n",
    "        return 'This is student class'\n",
    "    \n",
    "    def display(self):\n",
    "        print('Student Name:', self.name)\n",
    "        print('Roll Number:', self.roll)\n",
    "        print('Marks:', self.marks)\n",
    "        \n",
    "S = student()\n",
    "S.display()"
   ]
  },
  {
   "cell_type": "code",
   "execution_count": 2,
   "metadata": {},
   "outputs": [
    {
     "name": "stdout",
     "output_type": "stream",
     "text": [
      "This is student class\n"
     ]
    }
   ],
   "source": [
    "print(S)"
   ]
  },
  {
   "cell_type": "code",
   "execution_count": 8,
   "metadata": {},
   "outputs": [
    {
     "name": "stdout",
     "output_type": "stream",
     "text": [
      "Student Name: aaa\n",
      "Roll Number: 101\n",
      "Marks: 78.25\n",
      "\n",
      "\n",
      "\n",
      "\n",
      "Student Name: bbb\n",
      "Roll Number: 102\n",
      "Marks: 62.55\n",
      "\n",
      "\n",
      "\n",
      "\n",
      "Student Name: ccc\n",
      "Roll Number: 103\n",
      "Marks: 87.45\n",
      "\n",
      "\n",
      "\n",
      "\n"
     ]
    }
   ],
   "source": [
    "class student:\n",
    "    def __init__(self,name,roll,marks):\n",
    "        self.name = name\n",
    "        self.roll = roll\n",
    "        self.marks = marks\n",
    "    \n",
    "    def __str__(self):\n",
    "        return 'This is student class'\n",
    "    \n",
    "    def display(self):\n",
    "        print('Student Name:', self.name)\n",
    "        print('Roll Number:', self.roll)\n",
    "        print('Marks:', self.marks)\n",
    "        print('\\n')\n",
    "\n",
    "s = [student('aaa',101,78.25),\n",
    "     student('bbb',102,62.55),\n",
    "     student('ccc',103,87.45)]\n",
    "\n",
    "for i in s:\n",
    "    i.display()\n",
    "    print('\\n')"
   ]
  },
  {
   "cell_type": "markdown",
   "metadata": {},
   "source": [
    "### Static Variables"
   ]
  },
  {
   "cell_type": "code",
   "execution_count": 5,
   "metadata": {},
   "outputs": [
    {
     "name": "stdout",
     "output_type": "stream",
     "text": [
      "Student Name: aaa\n",
      "Roll Number: 101\n",
      "Marks: 78.25\n",
      "College Name: UCLA\n",
      "\n",
      "Student Name: bbb\n",
      "Roll Number: 102\n",
      "Marks: 62.55\n",
      "College Name: UCLA\n",
      "\n"
     ]
    }
   ],
   "source": [
    "class student:\n",
    "   # college='UCLA'  # static variable\n",
    "    def __init__(self,name,roll,marks):\n",
    "        self.name = name\n",
    "        self.roll = roll\n",
    "        self.marks = marks\n",
    "    \n",
    "    def display(self):\n",
    "        print('Student Name:', self.name)\n",
    "        print('Roll Number:', self.roll)\n",
    "        print('Marks:', self.marks)\n",
    "        print('College Name:',student.college)  # had to be preceded with class name\n",
    "        print()\n",
    "        \n",
    "student.college = 'UCLA'   # static variables can also be  created outside the class(it will give same results)\n",
    "s1 = student('aaa',101,78.25)\n",
    "s2 = student('bbb',102,62.55)\n",
    "s1.display()\n",
    "s2.display()"
   ]
  },
  {
   "cell_type": "markdown",
   "metadata": {},
   "source": [
    "### Nested Classes"
   ]
  },
  {
   "cell_type": "code",
   "execution_count": 14,
   "metadata": {},
   "outputs": [
    {
     "name": "stdout",
     "output_type": "stream",
     "text": [
      "Outer Class Conductor\n",
      "College Method\n",
      "Inner Class Constructor\n",
      "Student Method\n"
     ]
    }
   ],
   "source": [
    "class college:\n",
    "    def  __init__(self):\n",
    "        print('Outer Class Conductor')\n",
    "        \n",
    "    class student:\n",
    "        def __init__(self):\n",
    "            print('Inner Class Constructor')\n",
    "            \n",
    "        def displayS(self):\n",
    "            print('Student Method')\n",
    "            \n",
    "    def displayC(self):\n",
    "        print('College Method')\n",
    "        \n",
    "c = college()\n",
    "c.displayC()\n",
    "s = c.student()\n",
    "s.displayS()"
   ]
  },
  {
   "cell_type": "code",
   "execution_count": 1,
   "metadata": {},
   "outputs": [
    {
     "data": {
      "text/plain": [
       "8696972384"
      ]
     },
     "execution_count": 1,
     "metadata": {},
     "output_type": "execute_result"
    }
   ],
   "source": [
    "3725492+8693246892"
   ]
  },
  {
   "cell_type": "code",
   "execution_count": null,
   "metadata": {},
   "outputs": [],
   "source": []
  }
 ],
 "metadata": {
  "kernelspec": {
   "display_name": "Python 3",
   "language": "python",
   "name": "python3"
  },
  "language_info": {
   "codemirror_mode": {
    "name": "ipython",
    "version": 3
   },
   "file_extension": ".py",
   "mimetype": "text/x-python",
   "name": "python",
   "nbconvert_exporter": "python",
   "pygments_lexer": "ipython3",
   "version": "3.8.3"
  }
 },
 "nbformat": 4,
 "nbformat_minor": 4
}
